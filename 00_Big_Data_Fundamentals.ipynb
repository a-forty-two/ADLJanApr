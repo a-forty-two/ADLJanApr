{
  "nbformat": 4,
  "nbformat_minor": 0,
  "metadata": {
    "colab": {
      "name": "00 Big Data Fundamentals.ipynb",
      "provenance": [],
      "collapsed_sections": []
    },
    "kernelspec": {
      "name": "python3",
      "display_name": "Python 3"
    },
    "language_info": {
      "name": "python"
    }
  },
  "cells": [
    {
      "cell_type": "code",
      "execution_count": 1,
      "metadata": {
        "id": "vgLbDOf1P5V8"
      },
      "outputs": [],
      "source": [
        "# ETL- \n",
        "# collect the data-> drop all missing rows-> load into a warehouse\n",
        "# SPECIFIC TASKS\n",
        "# EL- database=> visualize as a graph\n",
        "# -> clean (GOLD)\n",
        "# ELT-\n",
        "# dump employee information in a data lake. Data Analysts would use it differently\n",
        "# HRs would use it diff\n",
        "# Managers,vendors-> different use from the same data!\n",
        "# extract the data and dump into DATA LAKE first\n",
        "# then keep transforming all you want for diff use cases!\n",
        "# Extract\n",
        "# Transform\n",
        "# Load\n",
        "# 1 use case?\n",
        "# collect the data-> drop all missing rows-> load into a warehouse\n",
        "# multiple use cases?"
      ]
    },
    {
      "cell_type": "code",
      "source": [
        "# Data Lake-> dumpyard => files, images, dbs, JSON, videos....\n",
        "# Dropbox, google drive, one drive\n",
        "# Azure Data Lake-> (Azure Storage)\n",
        "# Google Cloud-> Google Cloud Storage\n",
        "# AWS-> S3"
      ],
      "metadata": {
        "id": "IFIHa2cdSOAh"
      },
      "execution_count": 2,
      "outputs": []
    },
    {
      "cell_type": "code",
      "source": [
        "# Infinite Storage\n",
        "# BLOB-> Binary Large Objects"
      ],
      "metadata": {
        "id": "35YG9pU5S0JJ"
      },
      "execution_count": 3,
      "outputs": []
    },
    {
      "cell_type": "code",
      "source": [
        "# Hadoop, MongoDB, Any big"
      ],
      "metadata": {
        "id": "y_tifUB4bTwe"
      },
      "execution_count": 4,
      "outputs": []
    },
    {
      "cell_type": "code",
      "source": [
        "# 1 machine store 2 numbers\n",
        "# store 3 numbers-> 1,2,3\n",
        "# 1 or 2 numbers-> small data\n",
        "# 3 more more numbers-> BIG data!"
      ],
      "metadata": {
        "id": "4BaFGu-bbYPO"
      },
      "execution_count": 5,
      "outputs": []
    },
    {
      "cell_type": "code",
      "source": [
        "# MySQL, SQL server, postgres-> SMALL data-> linear optimized storage"
      ],
      "metadata": {
        "id": "3KtR4NkLbjnu"
      },
      "execution_count": 7,
      "outputs": []
    },
    {
      "cell_type": "code",
      "source": [
        "# M1-> 1,2---- replication--- M3-> 1,2\n",
        "# M2-> 3                      M4-> 3\n",
        "# distributed storage"
      ],
      "metadata": {
        "id": "G-_NYeaPbrh5"
      },
      "execution_count": 8,
      "outputs": []
    },
    {
      "cell_type": "code",
      "source": [
        "# SHARDING \n",
        "# M1-> 1,2\n",
        "# M2-> 2,3\n",
        "# M3-> 3,1"
      ],
      "metadata": {
        "id": "XMNJg_0qcN7Z"
      },
      "execution_count": null,
      "outputs": []
    },
    {
      "cell_type": "code",
      "source": [
        "# Small Data\n",
        "# Every row is a file\n",
        "# file-> 1 replication\n",
        "# 1 replica stored on a separate machine"
      ],
      "metadata": {
        "id": "qJhEyS3AkTyN"
      },
      "execution_count": null,
      "outputs": []
    },
    {
      "cell_type": "code",
      "source": [
        "# Big Data\n",
        "# Every column is a file\n",
        "# file-> N shards\n",
        "# 1 shard-> 3 copies\n",
        "# each copy on a diff machines \n"
      ],
      "metadata": {
        "id": "ov9uAfzlkJtG"
      },
      "execution_count": null,
      "outputs": []
    },
    {
      "cell_type": "code",
      "source": [
        "# Small-> Transaction \n",
        "#M1-> 1,4\n",
        "# m2-> 3\n",
        "# 10ms-> to search 1 row (hypothetical)\n",
        "# Parallel search will begin in M1 and M2\n",
        "# M2-> 10ms gives up; M1-> after 20ms-> finds 2; 4\n",
        "#M3-> 1,4\n",
        "# m4-> 3\n",
        "# Editing the data-> easy\n",
        "# everything is stored nearly, linearly\n",
        "# Searching becomes a problem-> \n",
        "# as the size of data grows-> the search time grows\n",
        "# data at top-> faster, data at end-> Slowest "
      ],
      "metadata": {
        "id": "4dHYl1DtlFGY"
      },
      "execution_count": 9,
      "outputs": []
    },
    {
      "cell_type": "code",
      "source": [
        "#M1-> 1,2-> all 3 machines parallel search\n",
        "#m2-> 2,3\n",
        "#m3-> 3,1\n",
        "# M1-> after 20ms-> finds 2-> replaces to 4\n",
        "# M2-> after 10ms-> finds 2-> replaces 4\n",
        "# m3-> after 20ms-> gives up"
      ],
      "metadata": {
        "id": "TDlEhYuulmeL"
      },
      "execution_count": null,
      "outputs": []
    },
    {
      "cell_type": "code",
      "source": [
        "# m1-> after 20ms-> finds 2-> replaces to 4\n",
        "# (now we know the index)\n",
        "# m2-> after 10ms-> gives up\n",
        "# now jump to M3-> replace index with 4\n",
        "# m1-> 1,2-> \n",
        "# m2-> 3\n",
        "# m3-> 1,2\n",
        "# m4-> 3"
      ],
      "metadata": {
        "id": "6a6QFIv4mbUo"
      },
      "execution_count": null,
      "outputs": []
    },
    {
      "cell_type": "code",
      "source": [
        "# consider searching\n",
        "# oltp-> m1: 1,2.   m2: 3.    m3: 1,2.    m4: 3\n",
        "# olap-> m1: 1,2.   m2: 2,3.   m3: 3,1\n",
        "# 2: \n",
        "# OLTP: m1-> 20ms; m2-> gives up (10ms)\n",
        "# OLAP: m1-> 20ms; m2-> 10ms; m3-> gives up(20ms)\n",
        "# whoever finds first returns first\n",
        "# OLAP would have taken 10ms for 1,2,3\n",
        "# OLTP would've taken 10ms for 1,3 and 20ms for 2"
      ],
      "metadata": {
        "id": "PuFsj5wMnSIT"
      },
      "execution_count": null,
      "outputs": []
    },
    {
      "cell_type": "code",
      "source": [
        "# ONLINE Transaction Processes -> OLTP\n",
        "# OLTP-> small data, efficient in editing the data"
      ],
      "metadata": {
        "id": "awnoNBHmm_Wo"
      },
      "execution_count": 10,
      "outputs": []
    },
    {
      "cell_type": "code",
      "source": [
        "# Online Analytical Processes -> OLAP\n",
        "# OLAP-> big data, poor performance in editing the data"
      ],
      "metadata": {
        "id": "HFDtasOOnEKz"
      },
      "execution_count": null,
      "outputs": []
    },
    {
      "cell_type": "code",
      "source": [
        "# use cases:\n",
        "# OLTP (SOURCE)---> OLAP (TARGET)\n",
        "# OLTP-make all changes---commit---> OLAP-no more changes\n",
        "# small data OLTP ------ big data OLAP\n",
        "# mobile, web, IoT, robotics, games----- ML, DA, DE, AI\n",
        "# SQL,MySQL,Postgres,Neo4j,MongoDB-> OLTP\n",
        "# Hadoop, Spark, data lakes, data warehouses-> OLAP"
      ],
      "metadata": {
        "id": "IWSb5ONfoJmj"
      },
      "execution_count": 12,
      "outputs": []
    },
    {
      "cell_type": "code",
      "source": [
        "# register-> add, mul\n",
        "# registers-> addresses \n",
        "# register-> 16 bit\n",
        "# address-> 16 bit \n",
        "# pointers-> 16 bit \n",
        "# int-> 16 bit \n",
        "# bitness software-> 16 bit"
      ],
      "metadata": {
        "id": "XGTUoYORod-M"
      },
      "execution_count": null,
      "outputs": []
    },
    {
      "cell_type": "code",
      "source": [
        "# Heirarchy -> Data Science\n",
        "#.          raw data\n",
        "#            /      \\ \n",
        "#  unstructured      structured\n",
        "#    |                |         \\      \n",
        "#    blob           OLAP.       OLTP\n",
        "#    |              |  |        |.   \\\n",
        "#    everything   sql. nosql    sql. nosql\n",
        "#    OLTP SQL Use: Credentials, Accounts\n",
        "#.   OLTP NOSQL- categroes, subcategories, IoT\n",
        "#.   OLAP SQL-> semi structured-> big data follows schema\n",
        "#.    OLAP NoSQL-> no-structure-> IoT, Advertising, Marketing\n",
        "# OLAP NoSQL-> GMAIL, Google Analytics-> HBase \n"
      ],
      "metadata": {
        "id": "_XTZU_2pqn9u"
      },
      "execution_count": null,
      "outputs": []
    }
  ]
}