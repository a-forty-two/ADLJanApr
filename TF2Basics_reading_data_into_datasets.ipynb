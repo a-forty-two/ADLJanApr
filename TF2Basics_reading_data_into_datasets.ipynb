{
  "nbformat": 4,
  "nbformat_minor": 0,
  "metadata": {
    "colab": {
      "name": "TF2Basics.ipynb",
      "provenance": [],
      "authorship_tag": "ABX9TyM9oU2g7cT+EfNudIuqTA+v",
      "include_colab_link": true
    },
    "kernelspec": {
      "name": "python3",
      "display_name": "Python 3"
    },
    "language_info": {
      "name": "python"
    }
  },
  "cells": [
    {
      "cell_type": "markdown",
      "metadata": {
        "id": "view-in-github",
        "colab_type": "text"
      },
      "source": [
        "<a href=\"https://colab.research.google.com/github/a-forty-two/ADLJanApr/blob/main/TF2Basics_reading_data_into_datasets.ipynb\" target=\"_parent\"><img src=\"https://colab.research.google.com/assets/colab-badge.svg\" alt=\"Open In Colab\"/></a>"
      ]
    },
    {
      "cell_type": "code",
      "execution_count": 1,
      "metadata": {
        "colab": {
          "base_uri": "https://localhost:8080/"
        },
        "id": "YbsQFE5gZwbT",
        "outputId": "e2b1ecfa-0ab4-4bb0-cecb-e40ba809aa38"
      },
      "outputs": [
        {
          "output_type": "stream",
          "name": "stdout",
          "text": [
            "2.7.0\n"
          ]
        }
      ],
      "source": [
        "import tensorflow as tf\n",
        "print(tf.__version__)"
      ]
    },
    {
      "cell_type": "code",
      "source": [
        "x = tf.constant(3)\n",
        "x\n",
        "# A Pointer to a Scalar tensor "
      ],
      "metadata": {
        "colab": {
          "base_uri": "https://localhost:8080/"
        },
        "id": "OJNrra-JZ5Id",
        "outputId": "13121949-56dd-4407-a7f5-aa2f3fd2aafb"
      },
      "execution_count": 2,
      "outputs": [
        {
          "output_type": "execute_result",
          "data": {
            "text/plain": [
              "<tf.Tensor: shape=(), dtype=int32, numpy=3>"
            ]
          },
          "metadata": {},
          "execution_count": 2
        }
      ]
    },
    {
      "cell_type": "code",
      "source": [
        "x = tf.constant([3, 5, 7]) \n",
        "x\n",
        "# A Pointer to a Vector tensor "
      ],
      "metadata": {
        "colab": {
          "base_uri": "https://localhost:8080/"
        },
        "id": "S5Kh-YcLah2m",
        "outputId": "7bb9f6bb-5315-4177-bfbc-829bc4d3f3ad"
      },
      "execution_count": 5,
      "outputs": [
        {
          "output_type": "execute_result",
          "data": {
            "text/plain": [
              "<tf.Tensor: shape=(3,), dtype=int32, numpy=array([3, 5, 7], dtype=int32)>"
            ]
          },
          "metadata": {},
          "execution_count": 5
        }
      ]
    },
    {
      "cell_type": "code",
      "source": [
        "x = tf.constant([[3, 5, 7],\n",
        " [4, 6, 8]])\n",
        "x\n",
        "# Matrix"
      ],
      "metadata": {
        "colab": {
          "base_uri": "https://localhost:8080/"
        },
        "id": "d0I3K8PZbGZK",
        "outputId": "96e85215-6406-41b0-9528-e875c87858f8"
      },
      "execution_count": 8,
      "outputs": [
        {
          "output_type": "execute_result",
          "data": {
            "text/plain": [
              "<tf.Tensor: shape=(2, 3), dtype=int32, numpy=\n",
              "array([[3, 5, 7],\n",
              "       [4, 6, 8]], dtype=int32)>"
            ]
          },
          "metadata": {},
          "execution_count": 8
        }
      ]
    },
    {
      "cell_type": "code",
      "source": [
        "#BEYOND 3-D\n",
        "# create a basic shape and start stacking\n",
        "x1 = tf.constant([2, 3, 4])\n",
        "x2 = tf.stack([x1, x1])\n",
        "x3 = tf.stack([x2, x2, x2, x2])\n",
        "x4 = tf.stack([x3, x3])"
      ],
      "metadata": {
        "id": "J6vE3Vu7bg-z"
      },
      "execution_count": 9,
      "outputs": []
    },
    {
      "cell_type": "code",
      "source": [
        "x1"
      ],
      "metadata": {
        "colab": {
          "base_uri": "https://localhost:8080/"
        },
        "id": "Hf2e0wTOcrbc",
        "outputId": "03d3e0ca-7b84-41ec-8957-07257c30aceb"
      },
      "execution_count": 10,
      "outputs": [
        {
          "output_type": "execute_result",
          "data": {
            "text/plain": [
              "<tf.Tensor: shape=(3,), dtype=int32, numpy=array([2, 3, 4], dtype=int32)>"
            ]
          },
          "metadata": {},
          "execution_count": 10
        }
      ]
    },
    {
      "cell_type": "code",
      "source": [
        "x2"
      ],
      "metadata": {
        "colab": {
          "base_uri": "https://localhost:8080/"
        },
        "id": "jtz-ZBZ-crRQ",
        "outputId": "6fb1e634-1959-4b43-e330-904629b8b1d6"
      },
      "execution_count": 11,
      "outputs": [
        {
          "output_type": "execute_result",
          "data": {
            "text/plain": [
              "<tf.Tensor: shape=(2, 3), dtype=int32, numpy=\n",
              "array([[2, 3, 4],\n",
              "       [2, 3, 4]], dtype=int32)>"
            ]
          },
          "metadata": {},
          "execution_count": 11
        }
      ]
    },
    {
      "cell_type": "code",
      "source": [
        "x3"
      ],
      "metadata": {
        "colab": {
          "base_uri": "https://localhost:8080/"
        },
        "id": "Uft9HT61crGq",
        "outputId": "e9f102c3-7de6-47cd-9a45-6b6da9e43e40"
      },
      "execution_count": 12,
      "outputs": [
        {
          "output_type": "execute_result",
          "data": {
            "text/plain": [
              "<tf.Tensor: shape=(4, 2, 3), dtype=int32, numpy=\n",
              "array([[[2, 3, 4],\n",
              "        [2, 3, 4]],\n",
              "\n",
              "       [[2, 3, 4],\n",
              "        [2, 3, 4]],\n",
              "\n",
              "       [[2, 3, 4],\n",
              "        [2, 3, 4]],\n",
              "\n",
              "       [[2, 3, 4],\n",
              "        [2, 3, 4]]], dtype=int32)>"
            ]
          },
          "metadata": {},
          "execution_count": 12
        }
      ]
    },
    {
      "cell_type": "code",
      "source": [
        "x4"
      ],
      "metadata": {
        "colab": {
          "base_uri": "https://localhost:8080/"
        },
        "id": "En7Hwt2Wct5W",
        "outputId": "d57d4e96-3c45-4189-fa8d-48a8704e47ef"
      },
      "execution_count": 13,
      "outputs": [
        {
          "output_type": "execute_result",
          "data": {
            "text/plain": [
              "<tf.Tensor: shape=(2, 4, 2, 3), dtype=int32, numpy=\n",
              "array([[[[2, 3, 4],\n",
              "         [2, 3, 4]],\n",
              "\n",
              "        [[2, 3, 4],\n",
              "         [2, 3, 4]],\n",
              "\n",
              "        [[2, 3, 4],\n",
              "         [2, 3, 4]],\n",
              "\n",
              "        [[2, 3, 4],\n",
              "         [2, 3, 4]]],\n",
              "\n",
              "\n",
              "       [[[2, 3, 4],\n",
              "         [2, 3, 4]],\n",
              "\n",
              "        [[2, 3, 4],\n",
              "         [2, 3, 4]],\n",
              "\n",
              "        [[2, 3, 4],\n",
              "         [2, 3, 4]],\n",
              "\n",
              "        [[2, 3, 4],\n",
              "         [2, 3, 4]]]], dtype=int32)>"
            ]
          },
          "metadata": {},
          "execution_count": 13
        }
      ]
    },
    {
      "cell_type": "code",
      "source": [
        "#Matrix reshpae-> the total tensor count CANNOT change!\n",
        "# if before shape was -> 1 X 2 X 4 = total elements= 8\n",
        "# possible-> 1X8, 8X1, 2X4, 4X2, 1 X 4 X 2, 2X2X2, 1X1X2X2X2\n",
        "# impossible-> 3X3 , 1,16"
      ],
      "metadata": {
        "id": "1x5HRQ3ifGUL"
      },
      "execution_count": null,
      "outputs": []
    },
    {
      "cell_type": "code",
      "source": [
        "# possible\n",
        "x = tf.constant([\n",
        " [3, 5, 7],\n",
        " [4, 6, 8]\n",
        "])\n",
        "y = tf.reshape(x, [3,2,1])\n",
        "y"
      ],
      "metadata": {
        "colab": {
          "base_uri": "https://localhost:8080/"
        },
        "id": "uJOKUYEMfmUG",
        "outputId": "6fed57f3-3ca2-4c30-fb52-6c0f0ff29970"
      },
      "execution_count": 19,
      "outputs": [
        {
          "output_type": "execute_result",
          "data": {
            "text/plain": [
              "<tf.Tensor: shape=(3, 2, 1), dtype=int32, numpy=\n",
              "array([[[3],\n",
              "        [5]],\n",
              "\n",
              "       [[7],\n",
              "        [4]],\n",
              "\n",
              "       [[6],\n",
              "        [8]]], dtype=int32)>"
            ]
          },
          "metadata": {},
          "execution_count": 19
        }
      ]
    },
    {
      "cell_type": "code",
      "source": [
        "#impossible (Error expected)\n",
        "x = tf.constant([\n",
        " [3, 5, 7],\n",
        " [4, 6, 8]\n",
        "])\n",
        "y = tf.reshape(x, [2, 4])\n",
        "y"
      ],
      "metadata": {
        "colab": {
          "base_uri": "https://localhost:8080/",
          "height": 398
        },
        "id": "f2Y4abyUfGJc",
        "outputId": "7fd05780-01ca-46d2-b8d3-94a2dddfcf1a"
      },
      "execution_count": 16,
      "outputs": [
        {
          "output_type": "error",
          "ename": "InvalidArgumentError",
          "evalue": "ignored",
          "traceback": [
            "\u001b[0;31m---------------------------------------------------------------------------\u001b[0m",
            "\u001b[0;31mInvalidArgumentError\u001b[0m                      Traceback (most recent call last)",
            "\u001b[0;32m<ipython-input-16-43bbf10293f0>\u001b[0m in \u001b[0;36m<module>\u001b[0;34m()\u001b[0m\n\u001b[1;32m      4\u001b[0m  \u001b[0;34m[\u001b[0m\u001b[0;36m4\u001b[0m\u001b[0;34m,\u001b[0m \u001b[0;36m6\u001b[0m\u001b[0;34m,\u001b[0m \u001b[0;36m8\u001b[0m\u001b[0;34m]\u001b[0m\u001b[0;34m\u001b[0m\u001b[0;34m\u001b[0m\u001b[0m\n\u001b[1;32m      5\u001b[0m ])\n\u001b[0;32m----> 6\u001b[0;31m \u001b[0my\u001b[0m \u001b[0;34m=\u001b[0m \u001b[0mtf\u001b[0m\u001b[0;34m.\u001b[0m\u001b[0mreshape\u001b[0m\u001b[0;34m(\u001b[0m\u001b[0mx\u001b[0m\u001b[0;34m,\u001b[0m \u001b[0;34m[\u001b[0m\u001b[0;36m2\u001b[0m\u001b[0;34m,\u001b[0m \u001b[0;36m4\u001b[0m\u001b[0;34m]\u001b[0m\u001b[0;34m)\u001b[0m\u001b[0;34m\u001b[0m\u001b[0;34m\u001b[0m\u001b[0m\n\u001b[0m\u001b[1;32m      7\u001b[0m \u001b[0my\u001b[0m\u001b[0;34m\u001b[0m\u001b[0;34m\u001b[0m\u001b[0m\n",
            "\u001b[0;32m/usr/local/lib/python3.7/dist-packages/tensorflow/python/util/traceback_utils.py\u001b[0m in \u001b[0;36merror_handler\u001b[0;34m(*args, **kwargs)\u001b[0m\n\u001b[1;32m    151\u001b[0m     \u001b[0;32mexcept\u001b[0m \u001b[0mException\u001b[0m \u001b[0;32mas\u001b[0m \u001b[0me\u001b[0m\u001b[0;34m:\u001b[0m\u001b[0;34m\u001b[0m\u001b[0;34m\u001b[0m\u001b[0m\n\u001b[1;32m    152\u001b[0m       \u001b[0mfiltered_tb\u001b[0m \u001b[0;34m=\u001b[0m \u001b[0m_process_traceback_frames\u001b[0m\u001b[0;34m(\u001b[0m\u001b[0me\u001b[0m\u001b[0;34m.\u001b[0m\u001b[0m__traceback__\u001b[0m\u001b[0;34m)\u001b[0m\u001b[0;34m\u001b[0m\u001b[0;34m\u001b[0m\u001b[0m\n\u001b[0;32m--> 153\u001b[0;31m       \u001b[0;32mraise\u001b[0m \u001b[0me\u001b[0m\u001b[0;34m.\u001b[0m\u001b[0mwith_traceback\u001b[0m\u001b[0;34m(\u001b[0m\u001b[0mfiltered_tb\u001b[0m\u001b[0;34m)\u001b[0m \u001b[0;32mfrom\u001b[0m \u001b[0;32mNone\u001b[0m\u001b[0;34m\u001b[0m\u001b[0;34m\u001b[0m\u001b[0m\n\u001b[0m\u001b[1;32m    154\u001b[0m     \u001b[0;32mfinally\u001b[0m\u001b[0;34m:\u001b[0m\u001b[0;34m\u001b[0m\u001b[0;34m\u001b[0m\u001b[0m\n\u001b[1;32m    155\u001b[0m       \u001b[0;32mdel\u001b[0m \u001b[0mfiltered_tb\u001b[0m\u001b[0;34m\u001b[0m\u001b[0;34m\u001b[0m\u001b[0m\n",
            "\u001b[0;32m/usr/local/lib/python3.7/dist-packages/tensorflow/python/eager/execute.py\u001b[0m in \u001b[0;36mquick_execute\u001b[0;34m(op_name, num_outputs, inputs, attrs, ctx, name)\u001b[0m\n\u001b[1;32m     57\u001b[0m     \u001b[0mctx\u001b[0m\u001b[0;34m.\u001b[0m\u001b[0mensure_initialized\u001b[0m\u001b[0;34m(\u001b[0m\u001b[0;34m)\u001b[0m\u001b[0;34m\u001b[0m\u001b[0;34m\u001b[0m\u001b[0m\n\u001b[1;32m     58\u001b[0m     tensors = pywrap_tfe.TFE_Py_Execute(ctx._handle, device_name, op_name,\n\u001b[0;32m---> 59\u001b[0;31m                                         inputs, attrs, num_outputs)\n\u001b[0m\u001b[1;32m     60\u001b[0m   \u001b[0;32mexcept\u001b[0m \u001b[0mcore\u001b[0m\u001b[0;34m.\u001b[0m\u001b[0m_NotOkStatusException\u001b[0m \u001b[0;32mas\u001b[0m \u001b[0me\u001b[0m\u001b[0;34m:\u001b[0m\u001b[0;34m\u001b[0m\u001b[0;34m\u001b[0m\u001b[0m\n\u001b[1;32m     61\u001b[0m     \u001b[0;32mif\u001b[0m \u001b[0mname\u001b[0m \u001b[0;32mis\u001b[0m \u001b[0;32mnot\u001b[0m \u001b[0;32mNone\u001b[0m\u001b[0;34m:\u001b[0m\u001b[0;34m\u001b[0m\u001b[0;34m\u001b[0m\u001b[0m\n",
            "\u001b[0;31mInvalidArgumentError\u001b[0m: Input to reshape is a tensor with 6 values, but the requested shape has 8 [Op:Reshape]"
          ]
        }
      ]
    },
    {
      "cell_type": "code",
      "source": [
        "# x <- 2\n",
        "x = tf.Variable(2.0, dtype=tf.float32, name='my_variable')\n",
        "# x <- 48.5\n",
        "x.assign(45.8)\n",
        "# x <- x + 4\n",
        "x.assign_add(4)\n",
        "# x <- x - 3\n",
        "x.assign_sub(3)\n",
        "x"
      ],
      "metadata": {
        "colab": {
          "base_uri": "https://localhost:8080/"
        },
        "id": "cs5S4TlZn6UK",
        "outputId": "721d8c5c-0db8-40e5-fd11-1c94b1b09377"
      },
      "execution_count": 20,
      "outputs": [
        {
          "output_type": "execute_result",
          "data": {
            "text/plain": [
              "<tf.Variable 'my_variable:0' shape=() dtype=float32, numpy=46.8>"
            ]
          },
          "metadata": {},
          "execution_count": 20
        }
      ]
    },
    {
      "cell_type": "code",
      "source": [
        "# in y=mx+c, this represents mx\n",
        "w = tf.Variable([[1.], [2.]]) # weight (or m in mx+c) is a variable\n",
        "x = tf.constant([[3., 4.]]) # x represents a record, an observation, a row of tabular data\n",
        "tf.matmul(w, x)"
      ],
      "metadata": {
        "colab": {
          "base_uri": "https://localhost:8080/"
        },
        "id": "7oThSA5in6Rk",
        "outputId": "5da115bb-719d-4cc3-ed4f-708af2db5705"
      },
      "execution_count": 21,
      "outputs": [
        {
          "output_type": "execute_result",
          "data": {
            "text/plain": [
              "<tf.Tensor: shape=(2, 2), dtype=float32, numpy=\n",
              "array([[3., 4.],\n",
              "       [6., 8.]], dtype=float32)>"
            ]
          },
          "metadata": {},
          "execution_count": 21
        }
      ]
    },
    {
      "cell_type": "code",
      "source": [
        "# order matters-> xm is not same as mx\n",
        "tf.matmul(x, w)"
      ],
      "metadata": {
        "colab": {
          "base_uri": "https://localhost:8080/"
        },
        "id": "_alwP360n6PL",
        "outputId": "0a1557b5-40d9-4461-d690-3be9a430219e"
      },
      "execution_count": 22,
      "outputs": [
        {
          "output_type": "execute_result",
          "data": {
            "text/plain": [
              "<tf.Tensor: shape=(1, 1), dtype=float32, numpy=array([[11.]], dtype=float32)>"
            ]
          },
          "metadata": {},
          "execution_count": 22
        }
      ]
    },
    {
      "cell_type": "code",
      "source": [
        "def create_dataset(X, Y, epochs, batch_size):\n",
        " dataset = tf.data.Dataset.from_tensor_slices((X, Y))\n",
        " dataset = dataset.repeat(epochs).batch(batch_size, drop_remainder=True)\n",
        " return dataset"
      ],
      "metadata": {
        "id": "QPSGwtRan6Li"
      },
      "execution_count": 23,
      "outputs": []
    },
    {
      "cell_type": "code",
      "source": [
        "x = [10, 20, 30, 40, 50, 60]\n",
        "y = [1,2,3,4,5,6]\n",
        "z = create_dataset(x,y, 2, 2)"
      ],
      "metadata": {
        "id": "vJeK70S9n6IT"
      },
      "execution_count": 25,
      "outputs": []
    },
    {
      "cell_type": "code",
      "source": [
        "z"
      ],
      "metadata": {
        "colab": {
          "base_uri": "https://localhost:8080/"
        },
        "id": "WuwvpRTozbSF",
        "outputId": "0b658915-432f-4c47-f34e-64091db4f3c7"
      },
      "execution_count": 26,
      "outputs": [
        {
          "output_type": "execute_result",
          "data": {
            "text/plain": [
              "<BatchDataset shapes: ((2,), (2,)), types: (tf.int32, tf.int32)>"
            ]
          },
          "metadata": {},
          "execution_count": 26
        }
      ]
    },
    {
      "cell_type": "code",
      "source": [
        "#IN MEMORY (on RAM data)\n",
        "t = tf.constant([[4, 2], [5, 3]])\n",
        "ds = tf.data.Dataset.from_tensors(t) # [[4, 2], [5, 3]]\n",
        "ds"
      ],
      "metadata": {
        "colab": {
          "base_uri": "https://localhost:8080/"
        },
        "id": "rG9J3Esrz1Ku",
        "outputId": "2696aafa-f87d-416d-8dcf-9fe7fba2bcdc"
      },
      "execution_count": 27,
      "outputs": [
        {
          "output_type": "execute_result",
          "data": {
            "text/plain": [
              "<TensorDataset shapes: (2, 2), types: tf.int32>"
            ]
          },
          "metadata": {},
          "execution_count": 27
        }
      ]
    },
    {
      "cell_type": "code",
      "source": [
        "t = tf.constant([[4, 2], [5, 3]])\n",
        "ds = tf.data.Dataset.from_tensor_slices(t) \n",
        "ds"
      ],
      "metadata": {
        "colab": {
          "base_uri": "https://localhost:8080/"
        },
        "id": "t0jL1LgNz1Gs",
        "outputId": "2490fb3f-73d6-4e32-e39d-c8d5d78a170c"
      },
      "execution_count": 28,
      "outputs": [
        {
          "output_type": "execute_result",
          "data": {
            "text/plain": [
              "<TensorSliceDataset shapes: (2,), types: tf.int32>"
            ]
          },
          "metadata": {},
          "execution_count": 28
        }
      ]
    },
    {
      "cell_type": "code",
      "source": [
        "def abc():\n",
        "  return 0\n",
        "# everything is POINTER MANIPULATION!"
      ],
      "metadata": {
        "id": "CB9FBed5Z7_n"
      },
      "execution_count": 3,
      "outputs": []
    },
    {
      "cell_type": "code",
      "source": [
        "abc"
      ],
      "metadata": {
        "colab": {
          "base_uri": "https://localhost:8080/"
        },
        "id": "7aek3p_PaDTE",
        "outputId": "8e33c8ad-63ab-4b99-8543-ffb290e500ca"
      },
      "execution_count": 4,
      "outputs": [
        {
          "output_type": "execute_result",
          "data": {
            "text/plain": [
              "<function __main__.abc>"
            ]
          },
          "metadata": {},
          "execution_count": 4
        }
      ]
    },
    {
      "cell_type": "code",
      "source": [
        "def parse_row(records):\n",
        " cols = tf.io.decode_csv(records, record_defaults=[[0],[0],[0],[0],[0],[0],[0],[0],[0],[0],[0]])\n",
        " features = {'radius_mean': cols[2]}\n",
        " label = cols[1]\n",
        " return features, label\n",
        "\n",
        "def create_dataset():\n",
        " csv_file_path = '/content/breastcancer_data.csv'\n",
        " dataset = tf.data.TextLineDataset(csv_file_path)\n",
        " dataset = dataset.map(parse_row)\n",
        " dataset = dataset.shuffle(42).repeat(15).batch(128)\n",
        " return dataset"
      ],
      "metadata": {
        "id": "HtjfG3wCaDwq"
      },
      "execution_count": 42,
      "outputs": []
    },
    {
      "cell_type": "code",
      "source": [
        "create_dataset()"
      ],
      "metadata": {
        "colab": {
          "base_uri": "https://localhost:8080/"
        },
        "id": "Ge_LoP_v1WBN",
        "outputId": "7a609b7b-1c46-4017-df1d-89249f3feeef"
      },
      "execution_count": 43,
      "outputs": [
        {
          "output_type": "execute_result",
          "data": {
            "text/plain": [
              "<BatchDataset shapes: ({radius_mean: (None,)}, (None,)), types: ({radius_mean: tf.int32}, tf.int32)>"
            ]
          },
          "metadata": {},
          "execution_count": 43
        }
      ]
    },
    {
      "cell_type": "code",
      "source": [
        ""
      ],
      "metadata": {
        "id": "DRSU3Anb1YFo"
      },
      "execution_count": null,
      "outputs": []
    }
  ]
}