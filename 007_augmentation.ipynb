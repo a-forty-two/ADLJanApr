{
  "cells": [
    {
      "cell_type": "markdown",
      "metadata": {
        "id": "view-in-github",
        "colab_type": "text"
      },
      "source": [
        "<a href=\"https://colab.research.google.com/github/a-forty-two/ADLJanApr/blob/main/007_augmentation.ipynb\" target=\"_parent\"><img src=\"https://colab.research.google.com/assets/colab-badge.svg\" alt=\"Open In Colab\"/></a>"
      ]
    },
    {
      "cell_type": "code",
      "execution_count": 1,
      "metadata": {
        "colab": {
          "base_uri": "https://localhost:8080/"
        },
        "id": "UQybHlkD5p_A",
        "outputId": "c8f476d0-f748-47fe-eaf4-fc91cbad127d"
      },
      "outputs": [
        {
          "output_type": "stream",
          "name": "stdout",
          "text": [
            "00rickrick.jpeg  sample_data\n"
          ]
        }
      ],
      "source": [
        "!ls"
      ]
    },
    {
      "cell_type": "code",
      "execution_count": 2,
      "metadata": {
        "id": "wNq8v_Gk5p_C"
      },
      "outputs": [],
      "source": [
        "from keras.preprocessing.image import load_img, img_to_array\n",
        "img = load_img('00rickrick.jpeg', target_size=(224,224))"
      ]
    },
    {
      "cell_type": "code",
      "execution_count": 3,
      "metadata": {
        "colab": {
          "base_uri": "https://localhost:8080/"
        },
        "id": "m8jJoXc-5p_D",
        "outputId": "f2994948-ad94-4fc4-989a-edad4b53acaa"
      },
      "outputs": [
        {
          "output_type": "execute_result",
          "data": {
            "text/plain": [
              "(224, 224, 3)"
            ]
          },
          "metadata": {},
          "execution_count": 3
        }
      ],
      "source": [
        "img = img_to_array(img)\n",
        "img.shape"
      ]
    },
    {
      "cell_type": "code",
      "execution_count": 4,
      "metadata": {
        "colab": {
          "base_uri": "https://localhost:8080/"
        },
        "id": "kJ1gfchN5p_D",
        "outputId": "f751c4dc-dd9f-4823-bc4e-e8587150f59c"
      },
      "outputs": [
        {
          "output_type": "execute_result",
          "data": {
            "text/plain": [
              "array([27., 24., 69.], dtype=float32)"
            ]
          },
          "metadata": {},
          "execution_count": 4
        }
      ],
      "source": [
        "img[0][0] #first pixel"
      ]
    },
    {
      "cell_type": "code",
      "execution_count": 5,
      "metadata": {
        "id": "T1DdUbLD5p_D"
      },
      "outputs": [],
      "source": [
        "from keras.preprocessing.image import array_to_img , ImageDataGenerator"
      ]
    },
    {
      "cell_type": "code",
      "execution_count": 6,
      "metadata": {
        "id": "NzPC7oOj5p_E"
      },
      "outputs": [],
      "source": [
        "generator = ImageDataGenerator(horizontal_flip=True, rotation_range=40, shear_range=0.25, zoom_range=0.25, \n",
        "                              brightness_range=[0.5, 2.5])"
      ]
    },
    {
      "cell_type": "code",
      "execution_count": 7,
      "metadata": {
        "id": "i1-dGeVU5p_E"
      },
      "outputs": [],
      "source": [
        "# all data that was passed to NN-> contained an extra dim\n",
        "# (x,y,z,3) -> # (1,x,y,z,3)\n",
        "img_seq = img.reshape((1,) + img.shape)"
      ]
    },
    {
      "cell_type": "code",
      "execution_count": 9,
      "metadata": {
        "id": "vimEXqMi5p_E"
      },
      "outputs": [],
      "source": [
        "# generating augmentations\n",
        "c = 0 \n",
        "for batch in generator.flow(img_seq, batch_size=1, save_to_dir='output', save_prefix='panda_', save_format='jpeg'):\n",
        "    if c == 40:\n",
        "        break\n",
        "    c = c+1 "
      ]
    },
    {
      "cell_type": "code",
      "execution_count": 10,
      "metadata": {
        "colab": {
          "base_uri": "https://localhost:8080/"
        },
        "id": "QSN66VPs5p_F",
        "outputId": "352a9a1e-f20c-4048-e27f-5ec6b0918e70"
      },
      "outputs": [
        {
          "output_type": "stream",
          "name": "stdout",
          "text": [
            "panda__0_1292.jpeg  panda__0_4458.jpeg\tpanda__0_6065.jpeg  panda__0_8816.jpeg\n",
            "panda__0_1379.jpeg  panda__0_4826.jpeg\tpanda__0_6437.jpeg  panda__0_8915.jpeg\n",
            "panda__0_1653.jpeg  panda__0_4852.jpeg\tpanda__0_6506.jpeg  panda__0_92.jpeg\n",
            "panda__0_1709.jpeg  panda__0_4957.jpeg\tpanda__0_6698.jpeg  panda__0_9348.jpeg\n",
            "panda__0_2488.jpeg  panda__0_5290.jpeg\tpanda__0_6748.jpeg  panda__0_9498.jpeg\n",
            "panda__0_2587.jpeg  panda__0_534.jpeg\tpanda__0_6881.jpeg  panda__0_9909.jpeg\n",
            "panda__0_2700.jpeg  panda__0_5388.jpeg\tpanda__0_6977.jpeg  panda__0_9915.jpeg\n",
            "panda__0_276.jpeg   panda__0_5495.jpeg\tpanda__0_7239.jpeg  panda__0_9975.jpeg\n",
            "panda__0_2913.jpeg  panda__0_5523.jpeg\tpanda__0_7530.jpeg\n",
            "panda__0_3856.jpeg  panda__0_5546.jpeg\tpanda__0_7759.jpeg\n",
            "panda__0_4426.jpeg  panda__0_5832.jpeg\tpanda__0_7961.jpeg\n"
          ]
        }
      ],
      "source": [
        "!ls output"
      ]
    },
    {
      "cell_type": "code",
      "execution_count": 11,
      "metadata": {
        "colab": {
          "base_uri": "https://localhost:8080/"
        },
        "id": "v71s8_rQ5p_F",
        "outputId": "713e4405-e54e-4c85-80a6-aee18a67dc31"
      },
      "outputs": [
        {
          "output_type": "stream",
          "name": "stdout",
          "text": [
            "  adding: output/ (stored 0%)\n",
            "  adding: output/panda__0_6437.jpeg (deflated 1%)\n",
            "  adding: output/panda__0_4426.jpeg (deflated 1%)\n",
            "  adding: output/panda__0_4852.jpeg (deflated 1%)\n",
            "  adding: output/panda__0_2700.jpeg (deflated 1%)\n",
            "  adding: output/panda__0_7530.jpeg (deflated 1%)\n",
            "  adding: output/panda__0_2913.jpeg (deflated 1%)\n",
            "  adding: output/panda__0_534.jpeg (deflated 1%)\n",
            "  adding: output/panda__0_276.jpeg (deflated 1%)\n",
            "  adding: output/panda__0_92.jpeg (deflated 1%)\n",
            "  adding: output/panda__0_4458.jpeg (deflated 1%)\n",
            "  adding: output/panda__0_7759.jpeg (deflated 1%)\n",
            "  adding: output/panda__0_8915.jpeg (deflated 1%)\n",
            "  adding: output/panda__0_5290.jpeg (deflated 1%)\n",
            "  adding: output/panda__0_5832.jpeg (deflated 1%)\n",
            "  adding: output/panda__0_5388.jpeg (deflated 1%)\n",
            "  adding: output/panda__0_1379.jpeg (deflated 1%)\n",
            "  adding: output/panda__0_8816.jpeg (deflated 1%)\n",
            "  adding: output/panda__0_1709.jpeg (deflated 1%)\n",
            "  adding: output/panda__0_9975.jpeg (deflated 1%)\n",
            "  adding: output/panda__0_7239.jpeg (deflated 1%)\n",
            "  adding: output/panda__0_6698.jpeg (deflated 1%)\n",
            "  adding: output/panda__0_5495.jpeg (deflated 1%)\n",
            "  adding: output/panda__0_3856.jpeg (deflated 1%)\n",
            "  adding: output/panda__0_1653.jpeg (deflated 1%)\n",
            "  adding: output/panda__0_2488.jpeg (deflated 1%)\n",
            "  adding: output/panda__0_2587.jpeg (deflated 1%)\n",
            "  adding: output/panda__0_5546.jpeg (deflated 1%)\n",
            "  adding: output/panda__0_6748.jpeg (deflated 1%)\n",
            "  adding: output/panda__0_6065.jpeg (deflated 1%)\n",
            "  adding: output/panda__0_4957.jpeg (deflated 1%)\n",
            "  adding: output/panda__0_9348.jpeg (deflated 1%)\n",
            "  adding: output/panda__0_5523.jpeg (deflated 1%)\n",
            "  adding: output/panda__0_9915.jpeg (deflated 1%)\n",
            "  adding: output/panda__0_7961.jpeg (deflated 1%)\n",
            "  adding: output/panda__0_9498.jpeg (deflated 1%)\n",
            "  adding: output/panda__0_1292.jpeg (deflated 1%)\n",
            "  adding: output/panda__0_9909.jpeg (deflated 1%)\n",
            "  adding: output/panda__0_6977.jpeg (deflated 1%)\n",
            "  adding: output/panda__0_4826.jpeg (deflated 1%)\n",
            "  adding: output/panda__0_6506.jpeg (deflated 1%)\n",
            "  adding: output/panda__0_6881.jpeg (deflated 1%)\n"
          ]
        }
      ],
      "source": [
        "!zip -r aug.zip output"
      ]
    },
    {
      "cell_type": "code",
      "source": [
        ""
      ],
      "metadata": {
        "id": "YzTXT4wY9RL8"
      },
      "execution_count": null,
      "outputs": []
    }
  ],
  "metadata": {
    "kernelspec": {
      "display_name": "Python 3.6 - AzureML",
      "language": "python",
      "name": "python3-azureml"
    },
    "language_info": {
      "codemirror_mode": {
        "name": "ipython",
        "version": 3
      },
      "file_extension": ".py",
      "mimetype": "text/x-python",
      "name": "python",
      "nbconvert_exporter": "python",
      "pygments_lexer": "ipython3",
      "version": "3.6.9"
    },
    "colab": {
      "name": "007_augmentation.ipynb.txt",
      "provenance": [],
      "include_colab_link": true
    }
  },
  "nbformat": 4,
  "nbformat_minor": 0
}